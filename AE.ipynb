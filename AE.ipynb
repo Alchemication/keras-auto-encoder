{
 "cells": [
  {
   "cell_type": "markdown",
   "metadata": {},
   "source": [
    "## Anomaly Detection\n",
    "\n",
    "### Context\n",
    "We have a mystery dataset. There are 9 explanatory variables and one response variable. The response variable is the last column and indicates if the sample is anomalous (=1, valid =0). The dataset is provided \"data.csv\". \n",
    "\n",
    "Of course in this case we could use supervised learning to generate a model and detect anomalies in new data. However the focus is on autoencoders, anomaly detection is just one of the potential uses for autoencoders.\n",
    "\n",
    "So we are going to pretend that we do not know which data are anomalous but we do know that the anomaly rate is small. Use an autoencoder to detect anomalies in the data. The correctness of the model can of course be checked."
   ]
  },
  {
   "cell_type": "markdown",
   "metadata": {},
   "source": [
    "## Problem\n",
    "\n",
    "If you train even a modest feed forward network via supervised learning you can get extremely good recall and precision, despite the unbalanced dataset. However in this e-tivity you will determining the anomalies by using an autoencoder. That is you will **not** be using the Anom flag to guide the training.\n",
    "\n",
    "The mystery dataset is available as shuttle.csv"
   ]
  },
  {
   "cell_type": "markdown",
   "metadata": {},
   "source": [
    "**Task 1: data preprocessing**\n",
    "\n",
    "Explain any preprocessing steps you take and also how you have selected the training and test sets. Remember we do not know which samples are anomalous only that there are a small number of them compared to the total sample size.\n"
   ]
  },
  {
   "cell_type": "markdown",
   "metadata": {},
   "source": [
    "**Task 2: model generation and training**\n",
    "\n",
    "Generate a suitable autoencoder model, the only restriction is that there should be only 2 latent variables. Train the model to a satistifactory result. Be aware that it will be much harder to achieve the sort of result you can get from a supervised learning model. \n",
    "\n",
    "**Hint**: it should not take long to run a 1000 epochs. However it may be difficult to train. Use different optimizers, topologies and/or weight initialisations to get convergence. Remember that achieving a perfect error means that the model will also be good at reconstructing anomalies. \n"
   ]
  },
  {
   "cell_type": "markdown",
   "metadata": {},
   "source": [
    "**Task 3: anomaly detection**\n",
    "\n",
    "From the histogram of the reconstruction error decide what the cutoff should be applied to distinguish anomalies from valid samples, given that the anomaly rate is ~7%."
   ]
  },
  {
   "cell_type": "markdown",
   "metadata": {},
   "source": [
    "**Task 4: VAE**\n",
    "\n",
    "Change the network to be a VAE. Again determine the optimal cutoff and plot the latent variables. Check how good the cutoffs were by constructing a confusion matrix or generating a classification report. Obviously for this task you need to use the Anom column.\n",
    "\n",
    "**Hint** you can use the model topology from the AE (with the obvious modifications). I found that I had a good model (almost as good and the supervised learning model) when the KL divergence was small. You can print out both the KL divergence and reconstruction loss for each epoch. It can be tricky to train these type of models, so do not be surprised if you do not get a stellar result. What is more important is that you have the correct code to implement the VAE."
   ]
  },
  {
   "cell_type": "code",
   "execution_count": 127,
   "metadata": {},
   "outputs": [],
   "source": [
    "#%reset"
   ]
  },
  {
   "cell_type": "markdown",
   "metadata": {},
   "source": [
    "### Imports"
   ]
  },
  {
   "cell_type": "code",
   "execution_count": 1,
   "metadata": {},
   "outputs": [],
   "source": [
    "import tensorflow as tf"
   ]
  },
  {
   "cell_type": "code",
   "execution_count": 2,
   "metadata": {},
   "outputs": [
    {
     "name": "stdout",
     "output_type": "stream",
     "text": [
      "PhysicalDevice(name='/physical_device:GPU:0', device_type='GPU')\n"
     ]
    }
   ],
   "source": [
    "# GPU code only, skip if no GPU is available!\n",
    "# make sure we don't run out of memory by running multiple Notebooks together\n",
    "# https://www.tensorflow.org/api_docs/python/tf/config/experimental/set_memory_growth\n",
    "physical_devices = tf.config.list_physical_devices('GPU') \n",
    "try:\n",
    "    print(physical_devices[0])\n",
    "    tf.config.experimental.set_memory_growth(physical_devices[0], True) \n",
    "except Exception as e: \n",
    "    # Invalid device or cannot modify virtual devices once initialized. \n",
    "    print('Error', e)\n",
    "    pass"
   ]
  },
  {
   "cell_type": "code",
   "execution_count": 3,
   "metadata": {},
   "outputs": [
    {
     "name": "stderr",
     "output_type": "stream",
     "text": [
      "Using TensorFlow backend.\n"
     ]
    }
   ],
   "source": [
    "import pandas as pd\n",
    "import numpy as np\n",
    "from sklearn.preprocessing import StandardScaler, MinMaxScaler\n",
    "from sklearn.metrics import f1_score, precision_score, recall_score\n",
    "import matplotlib.pyplot as plt\n",
    "from scipy import stats\n",
    "\n",
    "from tensorflow.keras.layers import Input, Dense, Conv2D, Conv2DTranspose, MaxPooling2D, UpSampling2D, Reshape\n",
    "from tensorflow.keras.models import Model\n",
    "from tensorflow.keras.optimizers import Adagrad, Adam\n",
    "from tensorflow.keras import backend as K\n",
    "from tensorflow.keras.datasets import mnist\n",
    "from tensorflow.keras.layers import Lambda\n",
    "from tensorflow.keras.losses import mean_squared_error, binary_crossentropy, mse\n",
    "from tensorflow.keras.utils import plot_model\n",
    "from tensorflow.keras import regularizers\n",
    "\n",
    "import os\n",
    "import keras"
   ]
  },
  {
   "cell_type": "code",
   "execution_count": 6,
   "metadata": {},
   "outputs": [
    {
     "name": "stdout",
     "output_type": "stream",
     "text": [
      "2.3.1\n",
      "2.1.0\n",
      "1.17.4\n"
     ]
    }
   ],
   "source": [
    "print(keras.__version__)\n",
    "print(tf.__version__)\n",
    "print(np.__version__)"
   ]
  },
  {
   "cell_type": "code",
   "execution_count": 4,
   "metadata": {},
   "outputs": [],
   "source": [
    "# Define a function which plots losses across\n",
    "# the different epochs.\n",
    "def plot_loss(H, metrics):\n",
    "    N = np.arange(0, len(H.history[\"loss\"]))\n",
    "    plt.figure()\n",
    "    for m in metrics:\n",
    "        plt.plot(N, H.history[m], label=m)\n",
    "    plt.title(\"Training Loss\")\n",
    "    plt.xlabel(\"Epoch #\")\n",
    "    plt.ylabel(\"Loss\")\n",
    "    plt.legend(loc=\"upper right\")\n",
    "    plt.show()"
   ]
  },
  {
   "cell_type": "markdown",
   "metadata": {},
   "source": [
    "### Task 1: data preprocessing\n",
    "\n",
    "Explain any preprocessing steps you take and also how you have selected the training and test sets. Remember we do not know which samples are anomalous only that there are a small number of them compared to the total sample size."
   ]
  },
  {
   "cell_type": "code",
   "execution_count": 5,
   "metadata": {},
   "outputs": [],
   "source": [
    "shuttle_df = pd.read_csv('shuttle.csv')"
   ]
  },
  {
   "cell_type": "code",
   "execution_count": 6,
   "metadata": {},
   "outputs": [
    {
     "data": {
      "text/html": [
       "<div>\n",
       "<style scoped>\n",
       "    .dataframe tbody tr th:only-of-type {\n",
       "        vertical-align: middle;\n",
       "    }\n",
       "\n",
       "    .dataframe tbody tr th {\n",
       "        vertical-align: top;\n",
       "    }\n",
       "\n",
       "    .dataframe thead th {\n",
       "        text-align: right;\n",
       "    }\n",
       "</style>\n",
       "<table border=\"1\" class=\"dataframe\">\n",
       "  <thead>\n",
       "    <tr style=\"text-align: right;\">\n",
       "      <th></th>\n",
       "      <th>V1</th>\n",
       "      <th>V2</th>\n",
       "      <th>V3</th>\n",
       "      <th>V4</th>\n",
       "      <th>V5</th>\n",
       "      <th>V6</th>\n",
       "      <th>V7</th>\n",
       "      <th>V8</th>\n",
       "      <th>V9</th>\n",
       "      <th>Anom</th>\n",
       "    </tr>\n",
       "  </thead>\n",
       "  <tbody>\n",
       "    <tr>\n",
       "      <th>0</th>\n",
       "      <td>50</td>\n",
       "      <td>21</td>\n",
       "      <td>77</td>\n",
       "      <td>0</td>\n",
       "      <td>28</td>\n",
       "      <td>0</td>\n",
       "      <td>27</td>\n",
       "      <td>48</td>\n",
       "      <td>22</td>\n",
       "      <td>1</td>\n",
       "    </tr>\n",
       "    <tr>\n",
       "      <th>1</th>\n",
       "      <td>53</td>\n",
       "      <td>0</td>\n",
       "      <td>82</td>\n",
       "      <td>0</td>\n",
       "      <td>52</td>\n",
       "      <td>-5</td>\n",
       "      <td>29</td>\n",
       "      <td>30</td>\n",
       "      <td>2</td>\n",
       "      <td>0</td>\n",
       "    </tr>\n",
       "    <tr>\n",
       "      <th>2</th>\n",
       "      <td>37</td>\n",
       "      <td>0</td>\n",
       "      <td>76</td>\n",
       "      <td>0</td>\n",
       "      <td>28</td>\n",
       "      <td>18</td>\n",
       "      <td>40</td>\n",
       "      <td>48</td>\n",
       "      <td>8</td>\n",
       "      <td>0</td>\n",
       "    </tr>\n",
       "    <tr>\n",
       "      <th>3</th>\n",
       "      <td>37</td>\n",
       "      <td>0</td>\n",
       "      <td>79</td>\n",
       "      <td>0</td>\n",
       "      <td>34</td>\n",
       "      <td>-26</td>\n",
       "      <td>43</td>\n",
       "      <td>46</td>\n",
       "      <td>2</td>\n",
       "      <td>0</td>\n",
       "    </tr>\n",
       "    <tr>\n",
       "      <th>4</th>\n",
       "      <td>85</td>\n",
       "      <td>0</td>\n",
       "      <td>88</td>\n",
       "      <td>-4</td>\n",
       "      <td>6</td>\n",
       "      <td>1</td>\n",
       "      <td>3</td>\n",
       "      <td>83</td>\n",
       "      <td>80</td>\n",
       "      <td>1</td>\n",
       "    </tr>\n",
       "  </tbody>\n",
       "</table>\n",
       "</div>"
      ],
      "text/plain": [
       "   V1  V2  V3  V4  V5  V6  V7  V8  V9  Anom\n",
       "0  50  21  77   0  28   0  27  48  22     1\n",
       "1  53   0  82   0  52  -5  29  30   2     0\n",
       "2  37   0  76   0  28  18  40  48   8     0\n",
       "3  37   0  79   0  34 -26  43  46   2     0\n",
       "4  85   0  88  -4   6   1   3  83  80     1"
      ]
     },
     "execution_count": 6,
     "metadata": {},
     "output_type": "execute_result"
    }
   ],
   "source": [
    "shuttle_df.head()"
   ]
  },
  {
   "cell_type": "code",
   "execution_count": 7,
   "metadata": {},
   "outputs": [
    {
     "data": {
      "text/html": [
       "<div>\n",
       "<style scoped>\n",
       "    .dataframe tbody tr th:only-of-type {\n",
       "        vertical-align: middle;\n",
       "    }\n",
       "\n",
       "    .dataframe tbody tr th {\n",
       "        vertical-align: top;\n",
       "    }\n",
       "\n",
       "    .dataframe thead th {\n",
       "        text-align: right;\n",
       "    }\n",
       "</style>\n",
       "<table border=\"1\" class=\"dataframe\">\n",
       "  <thead>\n",
       "    <tr style=\"text-align: right;\">\n",
       "      <th></th>\n",
       "      <th>V1</th>\n",
       "      <th>V2</th>\n",
       "      <th>V3</th>\n",
       "      <th>V4</th>\n",
       "      <th>V5</th>\n",
       "      <th>V6</th>\n",
       "      <th>V7</th>\n",
       "      <th>V8</th>\n",
       "      <th>V9</th>\n",
       "      <th>Anom</th>\n",
       "    </tr>\n",
       "  </thead>\n",
       "  <tbody>\n",
       "    <tr>\n",
       "      <th>count</th>\n",
       "      <td>49097.000000</td>\n",
       "      <td>49097.000000</td>\n",
       "      <td>49097.000000</td>\n",
       "      <td>49097.000000</td>\n",
       "      <td>49097.000000</td>\n",
       "      <td>49097.000000</td>\n",
       "      <td>49097.000000</td>\n",
       "      <td>49097.000000</td>\n",
       "      <td>49097.000000</td>\n",
       "      <td>49097.000000</td>\n",
       "    </tr>\n",
       "    <tr>\n",
       "      <th>mean</th>\n",
       "      <td>46.932399</td>\n",
       "      <td>-0.063955</td>\n",
       "      <td>85.123124</td>\n",
       "      <td>0.213231</td>\n",
       "      <td>36.871784</td>\n",
       "      <td>2.160030</td>\n",
       "      <td>38.200725</td>\n",
       "      <td>48.288592</td>\n",
       "      <td>10.261930</td>\n",
       "      <td>0.071511</td>\n",
       "    </tr>\n",
       "    <tr>\n",
       "      <th>std</th>\n",
       "      <td>12.875159</td>\n",
       "      <td>84.674481</td>\n",
       "      <td>8.877517</td>\n",
       "      <td>37.579171</td>\n",
       "      <td>19.963113</td>\n",
       "      <td>218.324964</td>\n",
       "      <td>13.446306</td>\n",
       "      <td>20.572064</td>\n",
       "      <td>23.751024</td>\n",
       "      <td>0.257680</td>\n",
       "    </tr>\n",
       "    <tr>\n",
       "      <th>min</th>\n",
       "      <td>27.000000</td>\n",
       "      <td>-4821.000000</td>\n",
       "      <td>21.000000</td>\n",
       "      <td>-3939.000000</td>\n",
       "      <td>-188.000000</td>\n",
       "      <td>-26739.000000</td>\n",
       "      <td>-48.000000</td>\n",
       "      <td>-353.000000</td>\n",
       "      <td>-356.000000</td>\n",
       "      <td>0.000000</td>\n",
       "    </tr>\n",
       "    <tr>\n",
       "      <th>25%</th>\n",
       "      <td>37.000000</td>\n",
       "      <td>0.000000</td>\n",
       "      <td>79.000000</td>\n",
       "      <td>0.000000</td>\n",
       "      <td>30.000000</td>\n",
       "      <td>-4.000000</td>\n",
       "      <td>33.000000</td>\n",
       "      <td>35.000000</td>\n",
       "      <td>0.000000</td>\n",
       "      <td>0.000000</td>\n",
       "    </tr>\n",
       "    <tr>\n",
       "      <th>50%</th>\n",
       "      <td>44.000000</td>\n",
       "      <td>0.000000</td>\n",
       "      <td>83.000000</td>\n",
       "      <td>0.000000</td>\n",
       "      <td>42.000000</td>\n",
       "      <td>0.000000</td>\n",
       "      <td>39.000000</td>\n",
       "      <td>41.000000</td>\n",
       "      <td>2.000000</td>\n",
       "      <td>0.000000</td>\n",
       "    </tr>\n",
       "    <tr>\n",
       "      <th>75%</th>\n",
       "      <td>50.000000</td>\n",
       "      <td>0.000000</td>\n",
       "      <td>88.000000</td>\n",
       "      <td>0.000000</td>\n",
       "      <td>46.000000</td>\n",
       "      <td>5.000000</td>\n",
       "      <td>43.000000</td>\n",
       "      <td>55.000000</td>\n",
       "      <td>6.000000</td>\n",
       "      <td>0.000000</td>\n",
       "    </tr>\n",
       "    <tr>\n",
       "      <th>max</th>\n",
       "      <td>126.000000</td>\n",
       "      <td>5075.000000</td>\n",
       "      <td>149.000000</td>\n",
       "      <td>3830.000000</td>\n",
       "      <td>436.000000</td>\n",
       "      <td>15164.000000</td>\n",
       "      <td>105.000000</td>\n",
       "      <td>270.000000</td>\n",
       "      <td>266.000000</td>\n",
       "      <td>1.000000</td>\n",
       "    </tr>\n",
       "  </tbody>\n",
       "</table>\n",
       "</div>"
      ],
      "text/plain": [
       "                 V1            V2            V3            V4            V5  \\\n",
       "count  49097.000000  49097.000000  49097.000000  49097.000000  49097.000000   \n",
       "mean      46.932399     -0.063955     85.123124      0.213231     36.871784   \n",
       "std       12.875159     84.674481      8.877517     37.579171     19.963113   \n",
       "min       27.000000  -4821.000000     21.000000  -3939.000000   -188.000000   \n",
       "25%       37.000000      0.000000     79.000000      0.000000     30.000000   \n",
       "50%       44.000000      0.000000     83.000000      0.000000     42.000000   \n",
       "75%       50.000000      0.000000     88.000000      0.000000     46.000000   \n",
       "max      126.000000   5075.000000    149.000000   3830.000000    436.000000   \n",
       "\n",
       "                 V6            V7            V8            V9          Anom  \n",
       "count  49097.000000  49097.000000  49097.000000  49097.000000  49097.000000  \n",
       "mean       2.160030     38.200725     48.288592     10.261930      0.071511  \n",
       "std      218.324964     13.446306     20.572064     23.751024      0.257680  \n",
       "min   -26739.000000    -48.000000   -353.000000   -356.000000      0.000000  \n",
       "25%       -4.000000     33.000000     35.000000      0.000000      0.000000  \n",
       "50%        0.000000     39.000000     41.000000      2.000000      0.000000  \n",
       "75%        5.000000     43.000000     55.000000      6.000000      0.000000  \n",
       "max    15164.000000    105.000000    270.000000    266.000000      1.000000  "
      ]
     },
     "execution_count": 7,
     "metadata": {},
     "output_type": "execute_result"
    }
   ],
   "source": [
    "shuttle_df.describe()"
   ]
  },
  {
   "cell_type": "code",
   "execution_count": 8,
   "metadata": {},
   "outputs": [
    {
     "data": {
      "text/plain": [
       "V1      0\n",
       "V2      0\n",
       "V3      0\n",
       "V4      0\n",
       "V5      0\n",
       "V6      0\n",
       "V7      0\n",
       "V8      0\n",
       "V9      0\n",
       "Anom    0\n",
       "dtype: int64"
      ]
     },
     "execution_count": 8,
     "metadata": {},
     "output_type": "execute_result"
    }
   ],
   "source": [
    "# make sure we don't have any missing data\n",
    "shuttle_df.isnull().sum()"
   ]
  },
  {
   "cell_type": "code",
   "execution_count": 9,
   "metadata": {},
   "outputs": [],
   "source": [
    "# since the task says \"we do not know which samples are anomalous\",\n",
    "# we can't use a simple train/test split from sklearn,\n",
    "# instead we can shuffle the dataset and take first 80% for training\n",
    "shuttle_vals = shuttle_df.values\n",
    "shuttle_vals_origin = shuttle_vals.copy()\n",
    "np.random.seed(42)\n",
    "np.random.shuffle(shuttle_vals) # this shuffle is an in-place operation"
   ]
  },
  {
   "cell_type": "code",
   "execution_count": 10,
   "metadata": {},
   "outputs": [],
   "source": [
    "# split data into X and y (where y will be only used afterwards to verify the results)\n",
    "X = shuttle_vals[:, 0:9]\n",
    "y = shuttle_vals[:, 9]"
   ]
  },
  {
   "cell_type": "code",
   "execution_count": 11,
   "metadata": {},
   "outputs": [],
   "source": [
    "# split X and y into train and test,\n",
    "# 10000 samples will represent ~20% of the data,\n",
    "# I could you the standard train/test split, but wanted\n",
    "# for once to try the manual way\n",
    "X_train, X_test = X[10000:,:], X[:10000,:] \n",
    "y_train, y_test = y[10000:], y[:10000]"
   ]
  },
  {
   "cell_type": "code",
   "execution_count": 12,
   "metadata": {},
   "outputs": [
    {
     "name": "stdout",
     "output_type": "stream",
     "text": [
      "train:  2775 / 39097\n",
      "test:   736 / 10000\n"
     ]
    }
   ],
   "source": [
    "# a little bit of cheating (just for inspection and sanity purpose):\n",
    "# make sure we do have outliers in the train & test sets\n",
    "print('train: ', y_train[y_train==1].shape[0], '/', y_train.shape[0])\n",
    "print('test:  ', y_test[y_test==1].shape[0], '/', y_test.shape[0])"
   ]
  },
  {
   "cell_type": "code",
   "execution_count": 13,
   "metadata": {},
   "outputs": [
    {
     "name": "stdout",
     "output_type": "stream",
     "text": [
      "Feature idx: V1\n"
     ]
    },
    {
     "data": {
      "image/png": "[encoded data removed]",
      "text/plain": [
       "<Figure size 432x288 with 1 Axes>"
      ]
     },
     "metadata": {
      "needs_background": "light"
     },
     "output_type": "display_data"
    },
    {
     "name": "stdout",
     "output_type": "stream",
     "text": [
      "Feature idx: V2\n"
     ]
    },
    {
     "data": {
      "image/png": "[encoded data removed]",
      "text/plain": [
       "<Figure size 432x288 with 1 Axes>"
      ]
     },
     "metadata": {
      "needs_background": "light"
     },
     "output_type": "display_data"
    },
    {
     "name": "stdout",
     "output_type": "stream",
     "text": [
      "Feature idx: V3\n"
     ]
    },
    {
     "data": {
      "image/png": "[encoded data removed]",
      "text/plain": [
       "<Figure size 432x288 with 1 Axes>"
      ]
     },
     "metadata": {
      "needs_background": "light"
     },
     "output_type": "display_data"
    },
    {
     "name": "stdout",
     "output_type": "stream",
     "text": [
      "Feature idx: V4\n"
     ]
    },
    {
     "data": {
      "image/png": "[encoded data removed]",
      "text/plain": [
       "<Figure size 432x288 with 1 Axes>"
      ]
     },
     "metadata": {
      "needs_background": "light"
     },
     "output_type": "display_data"
    },
    {
     "name": "stdout",
     "output_type": "stream",
     "text": [
      "Feature idx: V5\n"
     ]
    },
    {
     "data": {
      "image/png": "[encoded data removed]",
      "text/plain": [
       "<Figure size 432x288 with 1 Axes>"
      ]
     },
     "metadata": {
      "needs_background": "light"
     },
     "output_type": "display_data"
    },
    {
     "name": "stdout",
     "output_type": "stream",
     "text": [
      "Feature idx: V6\n"
     ]
    },
    {
     "data": {
      "image/png": "[encoded data removed]",
      "text/plain": [
       "<Figure size 432x288 with 1 Axes>"
      ]
     },
     "metadata": {
      "needs_background": "light"
     },
     "output_type": "display_data"
    },
    {
     "name": "stdout",
     "output_type": "stream",
     "text": [
      "Feature idx: V7\n"
     ]
    },
    {
     "data": {
      "image/png": "[encoded data removed]",
      "text/plain": [
       "<Figure size 432x288 with 1 Axes>"
      ]
     },
     "metadata": {
      "needs_background": "light"
     },
     "output_type": "display_data"
    },
    {
     "name": "stdout",
     "output_type": "stream",
     "text": [
      "Feature idx: V8\n"
     ]
    },
    {
     "data": {
      "image/png": "[encoded data removed]",
      "text/plain": [
       "<Figure size 432x288 with 1 Axes>"
      ]
     },
     "metadata": {
      "needs_background": "light"
     },
     "output_type": "display_data"
    },
    {
     "name": "stdout",
     "output_type": "stream",
     "text": [
      "Feature idx: V9\n"
     ]
    },
    {
     "data": {
      "image/png": "[encoded data removed]",
      "text/plain": [
       "<Figure size 432x288 with 1 Axes>"
      ]
     },
     "metadata": {
      "needs_background": "light"
     },
     "output_type": "display_data"
    }
   ],
   "source": [
    "# check the histogram of values for each feature in the training sample\n",
    "cols = shuttle_df.columns\n",
    "for i in range(X_train.shape[1]):\n",
    "    print(f'Feature idx: {cols[i]}')\n",
    "    plt.hist(X_train[:, i])\n",
    "    plt.show()"
   ]
  },
  {
   "cell_type": "markdown",
   "metadata": {},
   "source": [
    "Note: We can see that the range of values and outliers is pretty significant, but removing those in the pre-processing stage did not improve the overall model performance, so I eventually decided to keep them"
   ]
  },
  {
   "cell_type": "code",
   "execution_count": 14,
   "metadata": {},
   "outputs": [],
   "source": [
    "# Scale the data with respect to the training data set,\n",
    "# I found that MinMaxScaler performs much better on this dataset\n",
    "scaler = MinMaxScaler()\n",
    "scaler.fit(X_train)\n",
    "X_train_scaled = scaler.transform(X_train)\n",
    "\n",
    "# Scaling the test set using the transform defined by the train set.\n",
    "X_test_scaled = scaler.transform(X_test)"
   ]
  },
  {
   "cell_type": "code",
   "execution_count": 15,
   "metadata": {},
   "outputs": [
    {
     "name": "stdout",
     "output_type": "stream",
     "text": [
      "min orig.:  -26739\n",
      "max orig.:  15164\n",
      "min scaled:  0.0\n",
      "max scaled:  1.0\n"
     ]
    }
   ],
   "source": [
    "# check min, max values in the training data\n",
    "print('min orig.: ', np.amin(X_train))\n",
    "print('max orig.: ', np.amax(X_train))\n",
    "print('min scaled: ', np.amin(X_train_scaled))\n",
    "print('max scaled: ', np.amax(X_train_scaled))"
   ]
  },
  {
   "cell_type": "markdown",
   "metadata": {},
   "source": [
    "### Task 2: model generation and training"
   ]
  },
  {
   "cell_type": "code",
   "execution_count": 110,
   "metadata": {},
   "outputs": [
    {
     "name": "stdout",
     "output_type": "stream",
     "text": [
      "Model: \"autoencoder\"\n",
      "_________________________________________________________________\n",
      "Layer (type)                 Output Shape              Param #   \n",
      "=================================================================\n",
      "input_8 (InputLayer)         [(None, 9)]               0         \n",
      "_________________________________________________________________\n",
      "encoder (Model)              (None, 2)                 62        \n",
      "_________________________________________________________________\n",
      "decoder (Model)              (None, 9)                 69        \n",
      "=================================================================\n",
      "Total params: 131\n",
      "Trainable params: 131\n",
      "Non-trainable params: 0\n",
      "_________________________________________________________________\n",
      "None\n"
     ]
    },
    {
     "data": {
      "image/png": "[encoded data removed]",
      "text/plain": [
       "<Figure size 432x288 with 1 Axes>"
      ]
     },
     "metadata": {
      "needs_background": "light"
     },
     "output_type": "display_data"
    },
    {
     "name": "stdout",
     "output_type": "stream",
     "text": [
      "train loss: max= 0.673584654318203 min= 0.004971416483957398\n",
      "val loss: max= 0.243400035238266 min= 0.004721367450803518\n"
     ]
    }
   ],
   "source": [
    "# model parameters\n",
    "input_dim = X_train_scaled.shape[1]\n",
    "hidden_dim = 5\n",
    "latent_dim = 2\n",
    "activation = 'selu'\n",
    "kernel_init = 'he_normal'\n",
    "epochs = 10\n",
    "\n",
    "# input\n",
    "input_layer = Input(shape=(input_dim,))\n",
    "\n",
    "# encoder\n",
    "x = Dense(units=hidden_dim, activation=activation, kernel_initializer=kernel_init, activity_regularizer=regularizers.l1(10e-5))(input_layer)\n",
    "z = Dense(units=latent_dim, activation=activation, kernel_initializer=kernel_init)(x)\n",
    "encoder = Model(input_layer, z, name='encoder')\n",
    "#print(encoder.summary())\n",
    "#print('*******************')\n",
    "\n",
    "# decoder\n",
    "lats = Input(shape=(latent_dim,), name='latent')\n",
    "x = Dense(units=hidden_dim, activation=activation, kernel_initializer=kernel_init, activity_regularizer=regularizers.l1(10e-5))(lats)\n",
    "rec = Dense(units=input_dim, activation=activation, kernel_initializer=kernel_init)(x)\n",
    "decoder = Model(lats, rec, name='decoder')\n",
    "#print(decoder.summary())\n",
    "#print('*******************')\n",
    "\n",
    "# auto-encoder\n",
    "# The autoencoder takes the image as input encodes it, then decodes it\n",
    "rec = decoder(encoder(input_layer))\n",
    "autoencoder = Model(input_layer, rec, name='autoencoder')\n",
    "print(autoencoder.summary())\n",
    "\n",
    "# define optimizer and compile model\n",
    "opt = Adam(lr=1e-3)\n",
    "autoencoder.compile(optimizer=opt, loss='mean_squared_error')\n",
    "\n",
    "# train\n",
    "history = autoencoder.fit(X_train_scaled, X_train_scaled, epochs=epochs, batch_size=256,\n",
    "                          validation_data=(X_test_scaled, X_test_scaled), verbose=0)\n",
    "\n",
    "# plot loss\n",
    "plot_loss(history, ['loss', 'val_loss'])\n",
    "print('train loss: max=', max(history.history[\"loss\"]), 'min=', min(history.history[\"loss\"]))\n",
    "print('val loss: max=', max(history.history[\"val_loss\"]), 'min=', min(history.history[\"val_loss\"]))"
   ]
  },
  {
   "cell_type": "markdown",
   "metadata": {},
   "source": [
    "#### Training Results:\n",
    "Model seems to be converging nicely based on the curves above"
   ]
  },
  {
   "cell_type": "markdown",
   "metadata": {},
   "source": [
    "### Task 3: anomaly detection\n",
    "\n",
    "From the histogram of the reconstruction error decide what the cutoff should be applied to distinguish anomalies from valid samples, given that the anomaly rate is ~7%"
   ]
  },
  {
   "cell_type": "code",
   "execution_count": 111,
   "metadata": {},
   "outputs": [],
   "source": [
    "# Reconstruct records usign the auto-encoder\n",
    "reconstructed_data = autoencoder.predict(X_test_scaled)\n",
    "\n",
    "# calculate error of reconstructed data vs original (we are working in the scaled space)\n",
    "mse = np.mean(np.power(X_test_scaled - reconstructed_data, 2), axis=1)"
   ]
  },
  {
   "cell_type": "code",
   "execution_count": 125,
   "metadata": {},
   "outputs": [
    {
     "data": {
      "image/png": "[encoded data removed]",
      "text/plain": [
       "<Figure size 432x288 with 1 Axes>"
      ]
     },
     "metadata": {
      "needs_background": "light"
     },
     "output_type": "display_data"
    }
   ],
   "source": [
    "# plot errors on a logarithmic scale\n",
    "plt.hist(mse[mse < 0.06], bins='auto', log=True)\n",
    "plt.show()"
   ]
  },
  {
   "cell_type": "code",
   "execution_count": 113,
   "metadata": {},
   "outputs": [
    {
     "data": {
      "text/html": [
       "<div>\n",
       "<style scoped>\n",
       "    .dataframe tbody tr th:only-of-type {\n",
       "        vertical-align: middle;\n",
       "    }\n",
       "\n",
       "    .dataframe tbody tr th {\n",
       "        vertical-align: top;\n",
       "    }\n",
       "\n",
       "    .dataframe thead th {\n",
       "        text-align: right;\n",
       "    }\n",
       "</style>\n",
       "<table border=\"1\" class=\"dataframe\">\n",
       "  <thead>\n",
       "    <tr style=\"text-align: right;\">\n",
       "      <th></th>\n",
       "      <th>V1</th>\n",
       "      <th>V2</th>\n",
       "      <th>V3</th>\n",
       "      <th>V4</th>\n",
       "      <th>V5</th>\n",
       "      <th>V6</th>\n",
       "      <th>V7</th>\n",
       "      <th>V8</th>\n",
       "      <th>V9</th>\n",
       "      <th>mse</th>\n",
       "    </tr>\n",
       "  </thead>\n",
       "  <tbody>\n",
       "    <tr>\n",
       "      <th>0</th>\n",
       "      <td>54</td>\n",
       "      <td>0</td>\n",
       "      <td>81</td>\n",
       "      <td>-5</td>\n",
       "      <td>54</td>\n",
       "      <td>0</td>\n",
       "      <td>27</td>\n",
       "      <td>27</td>\n",
       "      <td>0</td>\n",
       "      <td>0.001550</td>\n",
       "    </tr>\n",
       "    <tr>\n",
       "      <th>1</th>\n",
       "      <td>49</td>\n",
       "      <td>0</td>\n",
       "      <td>76</td>\n",
       "      <td>-3</td>\n",
       "      <td>50</td>\n",
       "      <td>7</td>\n",
       "      <td>27</td>\n",
       "      <td>27</td>\n",
       "      <td>0</td>\n",
       "      <td>0.001994</td>\n",
       "    </tr>\n",
       "    <tr>\n",
       "      <th>2</th>\n",
       "      <td>47</td>\n",
       "      <td>-3</td>\n",
       "      <td>82</td>\n",
       "      <td>0</td>\n",
       "      <td>46</td>\n",
       "      <td>0</td>\n",
       "      <td>34</td>\n",
       "      <td>35</td>\n",
       "      <td>0</td>\n",
       "      <td>0.000542</td>\n",
       "    </tr>\n",
       "    <tr>\n",
       "      <th>3</th>\n",
       "      <td>37</td>\n",
       "      <td>0</td>\n",
       "      <td>108</td>\n",
       "      <td>-7</td>\n",
       "      <td>26</td>\n",
       "      <td>0</td>\n",
       "      <td>71</td>\n",
       "      <td>82</td>\n",
       "      <td>12</td>\n",
       "      <td>0.011993</td>\n",
       "    </tr>\n",
       "    <tr>\n",
       "      <th>4</th>\n",
       "      <td>51</td>\n",
       "      <td>-1</td>\n",
       "      <td>81</td>\n",
       "      <td>0</td>\n",
       "      <td>50</td>\n",
       "      <td>-16</td>\n",
       "      <td>30</td>\n",
       "      <td>32</td>\n",
       "      <td>2</td>\n",
       "      <td>0.000909</td>\n",
       "    </tr>\n",
       "  </tbody>\n",
       "</table>\n",
       "</div>"
      ],
      "text/plain": [
       "   V1  V2   V3  V4  V5  V6  V7  V8  V9       mse\n",
       "0  54   0   81  -5  54   0  27  27   0  0.001550\n",
       "1  49   0   76  -3  50   7  27  27   0  0.001994\n",
       "2  47  -3   82   0  46   0  34  35   0  0.000542\n",
       "3  37   0  108  -7  26   0  71  82  12  0.011993\n",
       "4  51  -1   81   0  50 -16  30  32   2  0.000909"
      ]
     },
     "execution_count": 113,
     "metadata": {},
     "output_type": "execute_result"
    }
   ],
   "source": [
    "# add errors to a dataframe\n",
    "final_df = pd.DataFrame(X_test, columns=shuttle_df.columns[:9])\n",
    "final_df['mse'] = mse\n",
    "final_df.head()"
   ]
  },
  {
   "cell_type": "code",
   "execution_count": 114,
   "metadata": {},
   "outputs": [
    {
     "data": {
      "text/plain": [
       "count    10000.000000\n",
       "mean         0.004271\n",
       "std          0.020579\n",
       "min          0.000132\n",
       "25%          0.000715\n",
       "50%          0.001285\n",
       "75%          0.002005\n",
       "max          1.831696\n",
       "Name: mse, dtype: float64"
      ]
     },
     "execution_count": 114,
     "metadata": {},
     "output_type": "execute_result"
    }
   ],
   "source": [
    "# verify error distribution\n",
    "final_df['mse'].describe()"
   ]
  },
  {
   "cell_type": "code",
   "execution_count": 115,
   "metadata": {},
   "outputs": [
    {
     "name": "stdout",
     "output_type": "stream",
     "text": [
      "mse_threshold:  0.02436235597303907\n"
     ]
    }
   ],
   "source": [
    "# find anomalies\n",
    "anomaly_rate = 1 - 0.07\n",
    "mse_threshold = np.quantile(final_df['mse'], anomaly_rate)\n",
    "print('mse_threshold: ', mse_threshold)"
   ]
  },
  {
   "cell_type": "code",
   "execution_count": 116,
   "metadata": {},
   "outputs": [
    {
     "name": "stdout",
     "output_type": "stream",
     "text": [
      "Found total of 700 outliers\n"
     ]
    }
   ],
   "source": [
    "# set outlier binary flag\n",
    "final_df['MSE_Outlier'] = 0\n",
    "final_df.loc[final_df['mse'] > mse_threshold, 'MSE_Outlier'] = 1\n",
    "print(f'Found total of {final_df[\"MSE_Outlier\"].sum()} outliers') # sanity check"
   ]
  },
  {
   "cell_type": "code",
   "execution_count": 117,
   "metadata": {},
   "outputs": [
    {
     "data": {
      "text/html": [
       "<div>\n",
       "<style scoped>\n",
       "    .dataframe tbody tr th:only-of-type {\n",
       "        vertical-align: middle;\n",
       "    }\n",
       "\n",
       "    .dataframe tbody tr th {\n",
       "        vertical-align: top;\n",
       "    }\n",
       "\n",
       "    .dataframe thead th {\n",
       "        text-align: right;\n",
       "    }\n",
       "</style>\n",
       "<table border=\"1\" class=\"dataframe\">\n",
       "  <thead>\n",
       "    <tr style=\"text-align: right;\">\n",
       "      <th></th>\n",
       "      <th>V1</th>\n",
       "      <th>V2</th>\n",
       "      <th>V3</th>\n",
       "      <th>V4</th>\n",
       "      <th>V5</th>\n",
       "      <th>V6</th>\n",
       "      <th>V7</th>\n",
       "      <th>V8</th>\n",
       "      <th>V9</th>\n",
       "      <th>mse</th>\n",
       "      <th>MSE_Outlier</th>\n",
       "      <th>True_Anom_Label</th>\n",
       "      <th>IS_CORRECT</th>\n",
       "    </tr>\n",
       "  </thead>\n",
       "  <tbody>\n",
       "    <tr>\n",
       "      <th>0</th>\n",
       "      <td>54</td>\n",
       "      <td>0</td>\n",
       "      <td>81</td>\n",
       "      <td>-5</td>\n",
       "      <td>54</td>\n",
       "      <td>0</td>\n",
       "      <td>27</td>\n",
       "      <td>27</td>\n",
       "      <td>0</td>\n",
       "      <td>0.001550</td>\n",
       "      <td>0</td>\n",
       "      <td>0</td>\n",
       "      <td>True</td>\n",
       "    </tr>\n",
       "    <tr>\n",
       "      <th>1</th>\n",
       "      <td>49</td>\n",
       "      <td>0</td>\n",
       "      <td>76</td>\n",
       "      <td>-3</td>\n",
       "      <td>50</td>\n",
       "      <td>7</td>\n",
       "      <td>27</td>\n",
       "      <td>27</td>\n",
       "      <td>0</td>\n",
       "      <td>0.001994</td>\n",
       "      <td>0</td>\n",
       "      <td>0</td>\n",
       "      <td>True</td>\n",
       "    </tr>\n",
       "    <tr>\n",
       "      <th>2</th>\n",
       "      <td>47</td>\n",
       "      <td>-3</td>\n",
       "      <td>82</td>\n",
       "      <td>0</td>\n",
       "      <td>46</td>\n",
       "      <td>0</td>\n",
       "      <td>34</td>\n",
       "      <td>35</td>\n",
       "      <td>0</td>\n",
       "      <td>0.000542</td>\n",
       "      <td>0</td>\n",
       "      <td>0</td>\n",
       "      <td>True</td>\n",
       "    </tr>\n",
       "    <tr>\n",
       "      <th>3</th>\n",
       "      <td>37</td>\n",
       "      <td>0</td>\n",
       "      <td>108</td>\n",
       "      <td>-7</td>\n",
       "      <td>26</td>\n",
       "      <td>0</td>\n",
       "      <td>71</td>\n",
       "      <td>82</td>\n",
       "      <td>12</td>\n",
       "      <td>0.011993</td>\n",
       "      <td>0</td>\n",
       "      <td>0</td>\n",
       "      <td>True</td>\n",
       "    </tr>\n",
       "    <tr>\n",
       "      <th>4</th>\n",
       "      <td>51</td>\n",
       "      <td>-1</td>\n",
       "      <td>81</td>\n",
       "      <td>0</td>\n",
       "      <td>50</td>\n",
       "      <td>-16</td>\n",
       "      <td>30</td>\n",
       "      <td>32</td>\n",
       "      <td>2</td>\n",
       "      <td>0.000909</td>\n",
       "      <td>0</td>\n",
       "      <td>0</td>\n",
       "      <td>True</td>\n",
       "    </tr>\n",
       "  </tbody>\n",
       "</table>\n",
       "</div>"
      ],
      "text/plain": [
       "   V1  V2   V3  V4  V5  V6  V7  V8  V9       mse  MSE_Outlier  \\\n",
       "0  54   0   81  -5  54   0  27  27   0  0.001550            0   \n",
       "1  49   0   76  -3  50   7  27  27   0  0.001994            0   \n",
       "2  47  -3   82   0  46   0  34  35   0  0.000542            0   \n",
       "3  37   0  108  -7  26   0  71  82  12  0.011993            0   \n",
       "4  51  -1   81   0  50 -16  30  32   2  0.000909            0   \n",
       "\n",
       "   True_Anom_Label  IS_CORRECT  \n",
       "0                0        True  \n",
       "1                0        True  \n",
       "2                0        True  \n",
       "3                0        True  \n",
       "4                0        True  "
      ]
     },
     "execution_count": 117,
     "metadata": {},
     "output_type": "execute_result"
    }
   ],
   "source": [
    "# now add the actual known label, so we can validate if the predictions are correct\n",
    "final_df['True_Anom_Label'] = y_test\n",
    "\n",
    "# calculate error between the preditions and true values\n",
    "final_df['IS_CORRECT'] = final_df['MSE_Outlier'] == final_df['True_Anom_Label']\n",
    "final_df.head()"
   ]
  },
  {
   "cell_type": "code",
   "execution_count": 118,
   "metadata": {},
   "outputs": [
    {
     "data": {
      "text/plain": [
       "True     9952\n",
       "False      48\n",
       "Name: IS_CORRECT, dtype: int64"
      ]
     },
     "execution_count": 118,
     "metadata": {},
     "output_type": "execute_result"
    }
   ],
   "source": [
    "# verify how many correct and incorrect predictions do we have\n",
    "final_df['IS_CORRECT'].value_counts()"
   ]
  },
  {
   "cell_type": "code",
   "execution_count": 119,
   "metadata": {},
   "outputs": [
    {
     "data": {
      "text/plain": [
       "True     694\n",
       "False     42\n",
       "Name: IS_CORRECT, dtype: int64"
      ]
     },
     "execution_count": 119,
     "metadata": {},
     "output_type": "execute_result"
    }
   ],
   "source": [
    "# verify for true outliers\n",
    "final_df[final_df['True_Anom_Label'] == 1]['IS_CORRECT'].value_counts()"
   ]
  },
  {
   "cell_type": "code",
   "execution_count": 120,
   "metadata": {},
   "outputs": [
    {
     "name": "stdout",
     "output_type": "stream",
     "text": [
      "F1 Score: 0.9665738161559889\n"
     ]
    }
   ],
   "source": [
    "# calculate F1 Score, which is a measurement, which combines both: Type 1 and Type 2 errors into a single metric\n",
    "# F1 = 2 * (precision * recall) / (precision + recall)\n",
    "sklearn_f1_score = f1_score(final_df['True_Anom_Label'], final_df['MSE_Outlier'])\n",
    "print('F1 Score:', sklearn_f1_score)"
   ]
  },
  {
   "cell_type": "code",
   "execution_count": 121,
   "metadata": {},
   "outputs": [
    {
     "data": {
      "text/plain": [
       "0.9914285714285714"
      ]
     },
     "execution_count": 121,
     "metadata": {},
     "output_type": "execute_result"
    }
   ],
   "source": [
    "# verify precision\n",
    "precision = precision_score(final_df['True_Anom_Label'], final_df['MSE_Outlier'])\n",
    "precision"
   ]
  },
  {
   "cell_type": "code",
   "execution_count": 122,
   "metadata": {},
   "outputs": [
    {
     "data": {
      "text/plain": [
       "0.9429347826086957"
      ]
     },
     "execution_count": 122,
     "metadata": {},
     "output_type": "execute_result"
    }
   ],
   "source": [
    "# verify recall\n",
    "recall = recall_score(final_df['True_Anom_Label'], final_df['MSE_Outlier'])\n",
    "recall"
   ]
  },
  {
   "cell_type": "markdown",
   "metadata": {},
   "source": [
    "#### Result for standard Auto-Encoder:\n",
    "\n",
    "After discovering a horrible bug in my model evaluation code, I've started getting good results.\n",
    "\n",
    "Currently AE model is very stable. In the model's run on the test-dataset above, only 42 out of 736 anomalies are misclassified (which means **94%** of all true-positive samples are classified correctly). This is also reflected in the Recall score above.\n",
    "\n",
    "Here are the most significant parts, which influenced the performance:\n",
    "- keeping model architecture simple (small number of epochs and small layer size), so model does not learn to memorize the anomalies as well\n",
    "- changing scaling to MinMaxScaler\n",
    "- moving activation functions from relu to **selu** (Scaled Exponential Linear Unit). Thanks to **Victor A.** for this discovery and his recommendations\n",
    "- adding a regularizer term\n",
    "\n",
    "These improvements pushed the performance to the high 90's"
   ]
  },
  {
   "cell_type": "markdown",
   "metadata": {},
   "source": [
    "### Part 4\n",
    "\n",
    "Change the network to be a VAE. Again determine the optimal cutoff and plot the latent variables. Check how good the cutoffs were by constructing a confusion matrix or generating a classification report. Obviously for this task you need to use the Anom column.\n",
    "\n",
    "Hint you can use the model topology from the AE (with the obvious modifications). I found that I had a good model (almost as good and the supervised learning model) when the KL divergence was small. You can print out both the KL divergence and reconstruction loss for each epoch. It can be tricky to train these type of models, so do not be surprised if you do not get a stellar result. What is more important is that you have the correct code to implement the VAE."
   ]
  },
  {
   "cell_type": "code",
   "execution_count": 16,
   "metadata": {},
   "outputs": [],
   "source": [
    "# This function samples random points from a distribution\n",
    "# reparameterization trick\n",
    "# instead of sampling from Q(z|X), sample epsilon = N(0,I)\n",
    "# z = z_mean + sqrt(var) * epsilon\n",
    "def sampling(args):\n",
    "    \"\"\"Reparameterization trick by sampling from an isotropic unit Gaussian.\n",
    "    # Arguments\n",
    "        args (tensor): mean and log of variance of Q(z|X)\n",
    "    # Returns\n",
    "        z (tensor): sampled latent vector\n",
    "    \"\"\"\n",
    "    z_mean, z_log_var = args\n",
    "    batch = K.shape(z_mean)[0]\n",
    "    dim = K.int_shape(z_mean)[1]\n",
    "    # by default, random_normal has mean = 0 and std = 1.0\n",
    "    epsilon = K.random_normal(shape=(batch, dim))\n",
    "    return z_mean + K.exp(0.5 * z_log_var) * epsilon"
   ]
  },
  {
   "cell_type": "code",
   "execution_count": 183,
   "metadata": {},
   "outputs": [],
   "source": [
    "def plot_latent(encoder, x, y):\n",
    "    z_mean, _, _ = encoder.predict(x)\n",
    "    print(z_mean.shape)\n",
    "    plt.figure(figsize=(6, 4))\n",
    "    plt.scatter(z_mean[:, 0], z_mean[:, 1], c=y, s=10)\n",
    "    plt.xlabel(\"z mean 0\"); plt.ylabel(\"z mean 1\"); plt.show();"
   ]
  },
  {
   "cell_type": "code",
   "execution_count": 157,
   "metadata": {},
   "outputs": [
    {
     "name": "stdout",
     "output_type": "stream",
     "text": [
      "Model: \"vae_mlp\"\n",
      "_________________________________________________________________\n",
      "Layer (type)                 Output Shape              Param #   \n",
      "=================================================================\n",
      "input_19 (InputLayer)        [(None, 9)]               0         \n",
      "_________________________________________________________________\n",
      "encoder (Model)              [(None, 2), (None, 2), (N 74        \n",
      "_________________________________________________________________\n",
      "decoder (Model)              (None, 9)                 69        \n",
      "=================================================================\n",
      "Total params: 143\n",
      "Trainable params: 143\n",
      "Non-trainable params: 0\n",
      "_________________________________________________________________\n",
      "WARNING:tensorflow:Output decoder missing from loss dictionary. We assume this was done on purpose. The fit and evaluate APIs will not be expecting any data to be passed to decoder.\n",
      "Train on 39097 samples\n",
      "Epoch 1/12\n",
      "39097/39097 [==============================] - 1s 27us/sample - loss: 132.5582 - vae_loss: 132.3657 - reconstruction_loss: 132.0536 - kl_loss: 0.3107\n",
      "Epoch 2/12\n",
      "39097/39097 [==============================] - 1s 18us/sample - loss: 14.3436 - vae_loss: 14.3364 - reconstruction_loss: 11.9361 - kl_loss: 2.3999\n",
      "Epoch 3/12\n",
      "39097/39097 [==============================] - 1s 19us/sample - loss: 8.8452 - vae_loss: 8.8460 - reconstruction_loss: 6.9196 - kl_loss: 1.9274\n",
      "Epoch 4/12\n",
      "39097/39097 [==============================] - 1s 19us/sample - loss: 6.6262 - vae_loss: 6.6222 - reconstruction_loss: 5.5311 - kl_loss: 1.0916\n",
      "Epoch 5/12\n",
      "39097/39097 [==============================] - 1s 18us/sample - loss: 5.4520 - vae_loss: 5.4496 - reconstruction_loss: 4.8193 - kl_loss: 0.6305\n",
      "Epoch 6/12\n",
      "39097/39097 [==============================] - 1s 19us/sample - loss: 4.9281 - vae_loss: 4.9298 - reconstruction_loss: 4.5505 - kl_loss: 0.3794\n",
      "Epoch 7/12\n",
      "39097/39097 [==============================] - 1s 18us/sample - loss: 4.5499 - vae_loss: 4.5502 - reconstruction_loss: 4.3468 - kl_loss: 0.2035\n",
      "Epoch 8/12\n",
      "39097/39097 [==============================] - 1s 18us/sample - loss: 4.2772 - vae_loss: 4.2757 - reconstruction_loss: 4.1780 - kl_loss: 0.0977\n",
      "Epoch 9/12\n",
      "39097/39097 [==============================] - 1s 18us/sample - loss: 4.1095 - vae_loss: 4.1070 - reconstruction_loss: 4.0531 - kl_loss: 0.0539\n",
      "Epoch 10/12\n",
      "39097/39097 [==============================] - 1s 18us/sample - loss: 4.0248 - vae_loss: 4.0258 - reconstruction_loss: 3.9908 - kl_loss: 0.0350\n",
      "Epoch 11/12\n",
      "39097/39097 [==============================] - 1s 18us/sample - loss: 3.9857 - vae_loss: 3.9851 - reconstruction_loss: 3.9598 - kl_loss: 0.0253\n",
      "Epoch 12/12\n",
      "39097/39097 [==============================] - 1s 18us/sample - loss: 3.9597 - vae_loss: 3.9597 - reconstruction_loss: 3.9380 - kl_loss: 0.0217\n"
     ]
    }
   ],
   "source": [
    "# VAE code removedm as we are not supposed to share this in GitLab"
   ]
  },
  {
   "cell_type": "markdown",
   "metadata": {},
   "source": [
    "#### Plot training curves"
   ]
  },
  {
   "cell_type": "code",
   "execution_count": 209,
   "metadata": {},
   "outputs": [
    {
     "data": {
      "image/png": "[encoded data removed]",
      "text/plain": [
       "<Figure size 432x288 with 1 Axes>"
      ]
     },
     "metadata": {
      "needs_background": "light"
     },
     "output_type": "display_data"
    }
   ],
   "source": [
    "plot_loss(H, ['vae_loss', 'reconstruction_loss', 'kl_loss'])"
   ]
  },
  {
   "cell_type": "markdown",
   "metadata": {},
   "source": [
    "#### Plot means, variances and stochastic noise in the Encoder"
   ]
  },
  {
   "cell_type": "code",
   "execution_count": 231,
   "metadata": {},
   "outputs": [
    {
     "data": {
      "image/png": "[encoded data removed]",
      "text/plain": [
       "<Figure size 864x288 with 3 Axes>"
      ]
     },
     "metadata": {
      "needs_background": "light"
     },
     "output_type": "display_data"
    }
   ],
   "source": [
    "# obtain the Latent layer\n",
    "hidden_layers = keras.backend.function(\n",
    "    [vae.layers[0].input],  # inputs layer\n",
    "    [vae.layers[1].output]  # encoder layer\n",
    ")\n",
    "latent = hidden_layers([X_train_scaled])[0] # this gives us 3 lists: means, vars and Gaussian noise\n",
    "\n",
    "# create 3 plots (1 for each component)\n",
    "f, (ax1, ax2, ax3) = plt.subplots(1, 3)\n",
    "f.set_figheight(4)\n",
    "f.set_figwidth(12)\n",
    "ax1.scatter(latent[0][:, 0], latent[0][:, 1], c=y_train, s=10)\n",
    "ax1.set_title('Latent Means')\n",
    "ax2.scatter(latent[1][:, 0], latent[1][:, 1], c=y_train, s=10)\n",
    "ax2.set_title('Latent Vars')\n",
    "ax3.scatter(latent[2][:, 0], latent[2][:, 1], c=y_train, s=10)\n",
    "ax3.set_title('Latent Gaussian Noise');"
   ]
  },
  {
   "cell_type": "markdown",
   "metadata": {},
   "source": [
    "**Note:**\n",
    "\n",
    "The means and vars plots above vary a lot between training scenarios. It's most likely related to the weights initialisation, which set statically would make it more stable.\n",
    "\n",
    "We can see above that the 2 classes (anomaly and not-anomaly) are somewhat visible as 2 distinct clusters."
   ]
  },
  {
   "cell_type": "markdown",
   "metadata": {},
   "source": [
    "#### Verify model's performance"
   ]
  },
  {
   "cell_type": "code",
   "execution_count": 171,
   "metadata": {},
   "outputs": [],
   "source": [
    "# Reconstruct records usign the auto-encoder\n",
    "reconstructed_data = vae.predict(X_test_scaled)\n",
    "\n",
    "# calculate error of reconstructed data vs original (we are working in the scaled space)\n",
    "mse = np.mean(np.power(X_test_scaled - reconstructed_data, 2), axis=1)"
   ]
  },
  {
   "cell_type": "code",
   "execution_count": 172,
   "metadata": {},
   "outputs": [
    {
     "data": {
      "image/png": "[encoded data removed]",
      "text/plain": [
       "<Figure size 432x288 with 1 Axes>"
      ]
     },
     "metadata": {
      "needs_background": "light"
     },
     "output_type": "display_data"
    }
   ],
   "source": [
    "# plot errors on a logarithmic scale\n",
    "plt.hist(mse[mse < 0.2], bins='auto', log=True)\n",
    "plt.show()"
   ]
  },
  {
   "cell_type": "code",
   "execution_count": 173,
   "metadata": {},
   "outputs": [
    {
     "data": {
      "text/html": [
       "<div>\n",
       "<style scoped>\n",
       "    .dataframe tbody tr th:only-of-type {\n",
       "        vertical-align: middle;\n",
       "    }\n",
       "\n",
       "    .dataframe tbody tr th {\n",
       "        vertical-align: top;\n",
       "    }\n",
       "\n",
       "    .dataframe thead th {\n",
       "        text-align: right;\n",
       "    }\n",
       "</style>\n",
       "<table border=\"1\" class=\"dataframe\">\n",
       "  <thead>\n",
       "    <tr style=\"text-align: right;\">\n",
       "      <th></th>\n",
       "      <th>V1</th>\n",
       "      <th>V2</th>\n",
       "      <th>V3</th>\n",
       "      <th>V4</th>\n",
       "      <th>V5</th>\n",
       "      <th>V6</th>\n",
       "      <th>V7</th>\n",
       "      <th>V8</th>\n",
       "      <th>V9</th>\n",
       "      <th>mse</th>\n",
       "    </tr>\n",
       "  </thead>\n",
       "  <tbody>\n",
       "    <tr>\n",
       "      <th>0</th>\n",
       "      <td>54</td>\n",
       "      <td>0</td>\n",
       "      <td>81</td>\n",
       "      <td>-5</td>\n",
       "      <td>54</td>\n",
       "      <td>0</td>\n",
       "      <td>27</td>\n",
       "      <td>27</td>\n",
       "      <td>0</td>\n",
       "      <td>0.001850</td>\n",
       "    </tr>\n",
       "    <tr>\n",
       "      <th>1</th>\n",
       "      <td>49</td>\n",
       "      <td>0</td>\n",
       "      <td>76</td>\n",
       "      <td>-3</td>\n",
       "      <td>50</td>\n",
       "      <td>7</td>\n",
       "      <td>27</td>\n",
       "      <td>27</td>\n",
       "      <td>0</td>\n",
       "      <td>0.001649</td>\n",
       "    </tr>\n",
       "    <tr>\n",
       "      <th>2</th>\n",
       "      <td>47</td>\n",
       "      <td>-3</td>\n",
       "      <td>82</td>\n",
       "      <td>0</td>\n",
       "      <td>46</td>\n",
       "      <td>0</td>\n",
       "      <td>34</td>\n",
       "      <td>35</td>\n",
       "      <td>0</td>\n",
       "      <td>0.000299</td>\n",
       "    </tr>\n",
       "    <tr>\n",
       "      <th>3</th>\n",
       "      <td>37</td>\n",
       "      <td>0</td>\n",
       "      <td>108</td>\n",
       "      <td>-7</td>\n",
       "      <td>26</td>\n",
       "      <td>0</td>\n",
       "      <td>71</td>\n",
       "      <td>82</td>\n",
       "      <td>12</td>\n",
       "      <td>0.010436</td>\n",
       "    </tr>\n",
       "    <tr>\n",
       "      <th>4</th>\n",
       "      <td>51</td>\n",
       "      <td>-1</td>\n",
       "      <td>81</td>\n",
       "      <td>0</td>\n",
       "      <td>50</td>\n",
       "      <td>-16</td>\n",
       "      <td>30</td>\n",
       "      <td>32</td>\n",
       "      <td>2</td>\n",
       "      <td>0.000680</td>\n",
       "    </tr>\n",
       "  </tbody>\n",
       "</table>\n",
       "</div>"
      ],
      "text/plain": [
       "   V1  V2   V3  V4  V5  V6  V7  V8  V9       mse\n",
       "0  54   0   81  -5  54   0  27  27   0  0.001850\n",
       "1  49   0   76  -3  50   7  27  27   0  0.001649\n",
       "2  47  -3   82   0  46   0  34  35   0  0.000299\n",
       "3  37   0  108  -7  26   0  71  82  12  0.010436\n",
       "4  51  -1   81   0  50 -16  30  32   2  0.000680"
      ]
     },
     "execution_count": 173,
     "metadata": {},
     "output_type": "execute_result"
    }
   ],
   "source": [
    "# add errors to a dataframe\n",
    "final_df = pd.DataFrame(X_test, columns=shuttle_df.columns[:9])\n",
    "final_df['mse'] = mse\n",
    "final_df.head()"
   ]
  },
  {
   "cell_type": "code",
   "execution_count": 174,
   "metadata": {},
   "outputs": [
    {
     "data": {
      "text/plain": [
       "count    10000.000000\n",
       "mean         0.004011\n",
       "std          0.008542\n",
       "min          0.000058\n",
       "25%          0.000590\n",
       "50%          0.001420\n",
       "75%          0.002386\n",
       "max          0.141307\n",
       "Name: mse, dtype: float64"
      ]
     },
     "execution_count": 174,
     "metadata": {},
     "output_type": "execute_result"
    }
   ],
   "source": [
    "# verify error distribution\n",
    "final_df['mse'].describe()"
   ]
  },
  {
   "cell_type": "code",
   "execution_count": 175,
   "metadata": {},
   "outputs": [
    {
     "name": "stdout",
     "output_type": "stream",
     "text": [
      "mse_threshold:  0.018881344574420415\n"
     ]
    }
   ],
   "source": [
    "# find anomalies\n",
    "anomaly_rate = 1 - 0.07\n",
    "mse_threshold = np.quantile(final_df['mse'], anomaly_rate)\n",
    "print('mse_threshold: ', mse_threshold)"
   ]
  },
  {
   "cell_type": "code",
   "execution_count": 176,
   "metadata": {},
   "outputs": [
    {
     "name": "stdout",
     "output_type": "stream",
     "text": [
      "Found total of 700 outliers\n"
     ]
    }
   ],
   "source": [
    "# set outlier binary flag\n",
    "final_df['MSE_Outlier'] = 0\n",
    "final_df.loc[final_df['mse'] > mse_threshold, 'MSE_Outlier'] = 1\n",
    "print(f'Found total of {final_df[\"MSE_Outlier\"].sum()} outliers') # sanity check"
   ]
  },
  {
   "cell_type": "code",
   "execution_count": 177,
   "metadata": {},
   "outputs": [
    {
     "data": {
      "text/html": [
       "<div>\n",
       "<style scoped>\n",
       "    .dataframe tbody tr th:only-of-type {\n",
       "        vertical-align: middle;\n",
       "    }\n",
       "\n",
       "    .dataframe tbody tr th {\n",
       "        vertical-align: top;\n",
       "    }\n",
       "\n",
       "    .dataframe thead th {\n",
       "        text-align: right;\n",
       "    }\n",
       "</style>\n",
       "<table border=\"1\" class=\"dataframe\">\n",
       "  <thead>\n",
       "    <tr style=\"text-align: right;\">\n",
       "      <th></th>\n",
       "      <th>V1</th>\n",
       "      <th>V2</th>\n",
       "      <th>V3</th>\n",
       "      <th>V4</th>\n",
       "      <th>V5</th>\n",
       "      <th>V6</th>\n",
       "      <th>V7</th>\n",
       "      <th>V8</th>\n",
       "      <th>V9</th>\n",
       "      <th>mse</th>\n",
       "      <th>MSE_Outlier</th>\n",
       "      <th>True_Anom_Label</th>\n",
       "      <th>IS_CORRECT</th>\n",
       "    </tr>\n",
       "  </thead>\n",
       "  <tbody>\n",
       "    <tr>\n",
       "      <th>0</th>\n",
       "      <td>54</td>\n",
       "      <td>0</td>\n",
       "      <td>81</td>\n",
       "      <td>-5</td>\n",
       "      <td>54</td>\n",
       "      <td>0</td>\n",
       "      <td>27</td>\n",
       "      <td>27</td>\n",
       "      <td>0</td>\n",
       "      <td>0.001850</td>\n",
       "      <td>0</td>\n",
       "      <td>0</td>\n",
       "      <td>True</td>\n",
       "    </tr>\n",
       "    <tr>\n",
       "      <th>1</th>\n",
       "      <td>49</td>\n",
       "      <td>0</td>\n",
       "      <td>76</td>\n",
       "      <td>-3</td>\n",
       "      <td>50</td>\n",
       "      <td>7</td>\n",
       "      <td>27</td>\n",
       "      <td>27</td>\n",
       "      <td>0</td>\n",
       "      <td>0.001649</td>\n",
       "      <td>0</td>\n",
       "      <td>0</td>\n",
       "      <td>True</td>\n",
       "    </tr>\n",
       "    <tr>\n",
       "      <th>2</th>\n",
       "      <td>47</td>\n",
       "      <td>-3</td>\n",
       "      <td>82</td>\n",
       "      <td>0</td>\n",
       "      <td>46</td>\n",
       "      <td>0</td>\n",
       "      <td>34</td>\n",
       "      <td>35</td>\n",
       "      <td>0</td>\n",
       "      <td>0.000299</td>\n",
       "      <td>0</td>\n",
       "      <td>0</td>\n",
       "      <td>True</td>\n",
       "    </tr>\n",
       "    <tr>\n",
       "      <th>3</th>\n",
       "      <td>37</td>\n",
       "      <td>0</td>\n",
       "      <td>108</td>\n",
       "      <td>-7</td>\n",
       "      <td>26</td>\n",
       "      <td>0</td>\n",
       "      <td>71</td>\n",
       "      <td>82</td>\n",
       "      <td>12</td>\n",
       "      <td>0.010436</td>\n",
       "      <td>0</td>\n",
       "      <td>0</td>\n",
       "      <td>True</td>\n",
       "    </tr>\n",
       "    <tr>\n",
       "      <th>4</th>\n",
       "      <td>51</td>\n",
       "      <td>-1</td>\n",
       "      <td>81</td>\n",
       "      <td>0</td>\n",
       "      <td>50</td>\n",
       "      <td>-16</td>\n",
       "      <td>30</td>\n",
       "      <td>32</td>\n",
       "      <td>2</td>\n",
       "      <td>0.000680</td>\n",
       "      <td>0</td>\n",
       "      <td>0</td>\n",
       "      <td>True</td>\n",
       "    </tr>\n",
       "  </tbody>\n",
       "</table>\n",
       "</div>"
      ],
      "text/plain": [
       "   V1  V2   V3  V4  V5  V6  V7  V8  V9       mse  MSE_Outlier  \\\n",
       "0  54   0   81  -5  54   0  27  27   0  0.001850            0   \n",
       "1  49   0   76  -3  50   7  27  27   0  0.001649            0   \n",
       "2  47  -3   82   0  46   0  34  35   0  0.000299            0   \n",
       "3  37   0  108  -7  26   0  71  82  12  0.010436            0   \n",
       "4  51  -1   81   0  50 -16  30  32   2  0.000680            0   \n",
       "\n",
       "   True_Anom_Label  IS_CORRECT  \n",
       "0                0        True  \n",
       "1                0        True  \n",
       "2                0        True  \n",
       "3                0        True  \n",
       "4                0        True  "
      ]
     },
     "execution_count": 177,
     "metadata": {},
     "output_type": "execute_result"
    }
   ],
   "source": [
    "# now add the actual known label, so we can validate if the predictions are correct\n",
    "final_df['True_Anom_Label'] = y_test\n",
    "\n",
    "# calculate error between the preditions and true values\n",
    "final_df['IS_CORRECT'] = final_df['MSE_Outlier'] == final_df['True_Anom_Label']\n",
    "final_df.head()"
   ]
  },
  {
   "cell_type": "code",
   "execution_count": 178,
   "metadata": {},
   "outputs": [
    {
     "data": {
      "text/plain": [
       "True     9960\n",
       "False      40\n",
       "Name: IS_CORRECT, dtype: int64"
      ]
     },
     "execution_count": 178,
     "metadata": {},
     "output_type": "execute_result"
    }
   ],
   "source": [
    "# verify how many correct and incorrect predictions do we have\n",
    "final_df['IS_CORRECT'].value_counts()"
   ]
  },
  {
   "cell_type": "code",
   "execution_count": 179,
   "metadata": {},
   "outputs": [
    {
     "data": {
      "text/plain": [
       "True     698\n",
       "False     38\n",
       "Name: IS_CORRECT, dtype: int64"
      ]
     },
     "execution_count": 179,
     "metadata": {},
     "output_type": "execute_result"
    }
   ],
   "source": [
    "# verify for true outliers\n",
    "final_df[final_df['True_Anom_Label'] == 1]['IS_CORRECT'].value_counts()"
   ]
  },
  {
   "cell_type": "code",
   "execution_count": 180,
   "metadata": {},
   "outputs": [
    {
     "name": "stdout",
     "output_type": "stream",
     "text": [
      "F1 Score: 0.9721448467966575\n"
     ]
    }
   ],
   "source": [
    "sklearn_f1_score = f1_score(final_df['True_Anom_Label'], final_df['MSE_Outlier'])\n",
    "print('F1 Score:', sklearn_f1_score)"
   ]
  },
  {
   "cell_type": "code",
   "execution_count": 181,
   "metadata": {},
   "outputs": [
    {
     "name": "stdout",
     "output_type": "stream",
     "text": [
      "              precision    recall  f1-score   support\n",
      "\n",
      "           0       1.00      1.00      1.00      9264\n",
      "           1       1.00      0.95      0.97       736\n",
      "\n",
      "    accuracy                           1.00     10000\n",
      "   macro avg       1.00      0.97      0.98     10000\n",
      "weighted avg       1.00      1.00      1.00     10000\n",
      "\n"
     ]
    }
   ],
   "source": [
    "from sklearn.metrics import classification_report\n",
    "print(classification_report(final_df['True_Anom_Label'], final_df['MSE_Outlier']))"
   ]
  },
  {
   "cell_type": "code",
   "execution_count": 182,
   "metadata": {},
   "outputs": [
    {
     "name": "stdout",
     "output_type": "stream",
     "text": [
      "Normal classified correctly:  9262\n",
      "Normal misclassified:  2\n",
      "Anomalies classified correctly:  698\n",
      "Anomalies misclassified:  38\n"
     ]
    }
   ],
   "source": [
    "from sklearn.metrics import confusion_matrix\n",
    "(TN, FN), (FP, TP) = confusion_matrix(final_df['True_Anom_Label'], final_df['MSE_Outlier'])\n",
    "print('Normal classified correctly: ', TN)\n",
    "print('Normal misclassified: ', FN)\n",
    "print('Anomalies classified correctly: ', TP)\n",
    "print('Anomalies misclassified: ', FP)"
   ]
  },
  {
   "cell_type": "markdown",
   "metadata": {},
   "source": [
    "#### Result for Variational Auto-Encoder:\n",
    "\n",
    "The results are pretty good and a little bit better than in the standard AE, with more parameter tuning we could probably get it to even higher levels of performance.\n",
    "\n",
    "In the model's run on the test-dataset above, 38 out of 736 anomalies are misclassified (which means **95%** of all true-positive samples are classified correctly). This is also reflected in the Recall score above.\n",
    "\n",
    "Here are the most significant parts, which influenced the performance:\n",
    "- as with AE - keeping model architecture simple (small number of epochs and small layer size)\n",
    "- again using MinMaxScaler\n",
    "- moving activation functions back to relu\n",
    "- removing the regularizer term, as Gaussian noise is already taking care of that for us\n",
    "- as Adam R. mentioned already, performance is good when kl_loss is very small\n",
    "- model is sensitive to weights initialisation, we can see it in the plotting, where on each training, we are getting a totally different distribution of the latent space"
   ]
  },
  {
   "cell_type": "code",
   "execution_count": null,
   "metadata": {},
   "outputs": [],
   "source": []
  }
 ],
 "metadata": {
  "kernelspec": {
   "display_name": "Python 3",
   "language": "python",
   "name": "python3"
  },
  "language_info": {
   "codemirror_mode": {
    "name": "ipython",
    "version": 3
   },
   "file_extension": ".py",
   "mimetype": "text/x-python",
   "name": "python",
   "nbconvert_exporter": "python",
   "pygments_lexer": "ipython3",
   "version": "3.7.0"
  },
  "latex_envs": {
   "LaTeX_envs_menu_present": true,
   "autoclose": false,
   "autocomplete": true,
   "bibliofile": "biblio.bib",
   "cite_by": "apalike",
   "current_citInitial": 1,
   "eqLabelWithNumbers": true,
   "eqNumInitial": 1,
   "hotkeys": {
    "equation": "Ctrl-E",
    "itemize": "Ctrl-I"
   },
   "labels_anchors": false,
   "latex_user_defs": false,
   "report_style_numbering": false,
   "user_envs_cfg": false
  }
 },
 "nbformat": 4,
 "nbformat_minor": 4
}
